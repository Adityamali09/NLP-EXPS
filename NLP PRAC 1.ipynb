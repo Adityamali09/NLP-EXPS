{
  "nbformat": 4,
  "nbformat_minor": 0,
  "metadata": {
    "colab": {
      "provenance": []
    },
    "kernelspec": {
      "name": "python3",
      "display_name": "Python 3"
    },
    "language_info": {
      "name": "python"
    }
  },
  "cells": [
    {
      "cell_type": "code",
      "execution_count": 9,
      "metadata": {
        "colab": {
          "base_uri": "https://localhost:8080/"
        },
        "id": "ZWnXdRtFJh_d",
        "outputId": "6d0793b6-86fb-43df-90f3-7cf6956d496c"
      },
      "outputs": [
        {
          "output_type": "stream",
          "name": "stdout",
          "text": [
            "Tokens: ['A', 'corpus', 'may', 'contain', 'texts', 'in', 'a', 'single', 'language', '(', 'monolingual', 'corpus', ')', 'or', 'text', 'data', 'in', 'multiple', 'languages', '(', 'multilingual', 'corpus', ')', '.']\n",
            "Lowercased tokens: ['a', 'corpus', 'may', 'contain', 'texts', 'in', 'a', 'single', 'language', '(', 'monolingual', 'corpus', ')', 'or', 'text', 'data', 'in', 'multiple', 'languages', '(', 'multilingual', 'corpus', ')', '.']\n",
            "Tokens without punctuation: ['A', 'corpus', 'may', 'contain', 'texts', 'in', 'a', 'single', 'language', 'monolingual', 'corpus', 'or', 'text', 'data', 'in', 'multiple', 'languages', 'multilingual', 'corpus']\n",
            "Tokens without stopwords: ['corpus', 'may', 'contain', 'texts', 'single', 'language', '(', 'monolingual', 'corpus', ')', 'text', 'data', 'multiple', 'languages', '(', 'multilingual', 'corpus', ')', '.']\n",
            "Stop words in English: ['i', 'me', 'my', 'myself', 'we', 'our', 'ours', 'ourselves', 'you', \"you're\", \"you've\", \"you'll\", \"you'd\", 'your', 'yours', 'yourself', 'yourselves', 'he', 'him', 'his', 'himself', 'she', \"she's\", 'her', 'hers', 'herself', 'it', \"it's\", 'its', 'itself', 'they', 'them', 'their', 'theirs', 'themselves', 'what', 'which', 'who', 'whom', 'this', 'that', \"that'll\", 'these', 'those', 'am', 'is', 'are', 'was', 'were', 'be']\n",
            "Cleaned text: A corpus may contain texts in a single language (monolingual corpus) or text data in multiple languages (multilingual corpus).\n"
          ]
        }
      ],
      "source": [
        "import nltk\n",
        "#nltk.download('punkt')\n",
        "import string\n",
        "#nltk.download('stopwords')\n",
        "\n",
        "# input text\n",
        "text = \"A corpus may  contain texts in a  single language (monolingual corpus) or text data in multiple languages (multilingual corpus).\"\n",
        "\n",
        "# tokenize the text\n",
        "tokens = nltk.word_tokenize(text)\n",
        "# print the tokens\n",
        "print(\"Tokens:\", tokens)\n",
        "\n",
        "# lowercase the tokens\n",
        "lowercased_tokens = [token.lower() for token in tokens]\n",
        "# print the lowercased tokens\n",
        "print(\"Lowercased tokens:\", lowercased_tokens)\n",
        "\n",
        "\n",
        "# remove punctuation\n",
        "filtered_tokens = [token for token in tokens if token not in string.punctuation]\n",
        "\n",
        "print(\"Tokens without punctuation:\", filtered_tokens)\n",
        "\n",
        "# get list of stopwords in English\n",
        "stopwords = nltk.corpus.stopwords.words(\"english\")\n",
        "\n",
        "# remove stopwords\n",
        "filtered_tokens = [token for token in tokens if token.lower() not in stopwords]\n",
        "\n",
        "print(\"Tokens without stopwords:\", filtered_tokens)\n",
        "\n",
        "print(\"Stop words in English:\",stopwords[0:50])\n",
        "\n",
        "# remove leading and trailing white space\n",
        "text = text.strip()\n",
        "\n",
        "# replace multiple consecutive white space characters with a single space\n",
        "text = \" \".join(text.split())\n",
        "\n",
        "print(\"Cleaned text:\", text)\n"
      ]
    },
    {
      "cell_type": "markdown",
      "source": [
        "# Aditya S. Mali 21102A0077 CMPN A\n",
        "## GITHUB link : [Click here]()"
      ],
      "metadata": {
        "id": "710BZ68-QO52"
      }
    }
  ]
}